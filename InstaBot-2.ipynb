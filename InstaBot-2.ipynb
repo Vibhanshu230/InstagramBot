{
 "cells": [
  {
   "cell_type": "markdown",
   "id": "86ed2044",
   "metadata": {},
   "source": [
    "# Instabot-2 Project"
   ]
  },
  {
   "cell_type": "code",
   "execution_count": 1,
   "id": "bd3dae12",
   "metadata": {},
   "outputs": [],
   "source": [
    "from selenium import webdriver\n",
    "from selenium.webdriver.support import expected_conditions as EC\n",
    "from selenium.webdriver.support.ui import WebDriverWait\n",
    "from selenium.webdriver.common.by import By\n",
    "from selenium.common.exceptions import TimeoutException\n",
    "from bs4 import BeautifulSoup\n",
    "from collections import OrderedDict \n",
    "import time\n",
    "from datetime import datetime, timedelta\n",
    "\n",
    "import pandas as pd\n",
    "import numpy as np\n",
    "import matplotlib.pyplot as plt\n",
    "%matplotlib inline"
   ]
  },
  {
   "cell_type": "code",
   "execution_count": 2,
   "id": "61b0d9e9",
   "metadata": {},
   "outputs": [],
   "source": [
    "from selenium import webdriver\n",
    "from webdriver_manager.chrome import ChromeDriverManager\n",
    "driver=webdriver.Chrome()\n"
   ]
  },
  {
   "cell_type": "code",
   "execution_count": 4,
   "id": "792d2079",
   "metadata": {},
   "outputs": [],
   "source": [
    "#opening Instagram\n",
    "driver.get('https://www.instagram.com/')\n"
   ]
  },
  {
   "cell_type": "code",
   "execution_count": 5,
   "id": "329bb3b2",
   "metadata": {},
   "outputs": [],
   "source": [
    "# Saving username and password as local variable\n",
    "username='vibhanshubotke'\n",
    "password='vibha2003'"
   ]
  },
  {
   "cell_type": "code",
   "execution_count": 6,
   "id": "f741c6eb",
   "metadata": {},
   "outputs": [],
   "source": [
    "# initialising wait object\n",
    "wait=WebDriverWait(driver,10)"
   ]
  },
  {
   "cell_type": "code",
   "execution_count": 7,
   "id": "99ce5005",
   "metadata": {},
   "outputs": [],
   "source": [
    "def login(username,password):\n",
    "    try:\n",
    "#     Finding username textbox and sending username.\n",
    "        user_id=wait.until(EC.presence_of_element_located((By.NAME,'username')))\n",
    "        user_id.send_keys(username)\n",
    "#     Finding password textbox and sending password.\n",
    "        pwd=driver.find_element(By.NAME,'password')\n",
    "        pwd.send_keys(password)\n",
    "#     Finding log in button.\n",
    "        btn=wait.until(EC.presence_of_element_located((By.XPATH,'//*[@id=\"loginForm\"]/div[1]/div[3]/button/div')))\n",
    "        btn.click()\n",
    "    except TimeoutException :\n",
    "        print (\"lOGIN FAILED\")\n",
    "    "
   ]
  },
  {
   "cell_type": "code",
   "execution_count": 8,
   "id": "ae184f0c",
   "metadata": {},
   "outputs": [],
   "source": [
    "# login using username and password\n",
    "login(username,password)"
   ]
  },
  {
   "cell_type": "code",
   "execution_count": 112,
   "id": "d89a7c60",
   "metadata": {},
   "outputs": [],
   "source": [
    "def search(s):\n",
    "#         locating search button and clicking button\n",
    "    search_btn=wait.until(EC.presence_of_element_located((By.XPATH,'//*[@class=\"x1iyjqo2 xh8yej3\"]/div[2]/span/div/a')))\n",
    "    search_btn.click()\n",
    "#         Waiting till presence of search bar and locating search text box \n",
    "    searchbox=wait.until(EC.element_to_be_clickable((By.XPATH, '//input[@placeholder=\"Search\"]')))\n",
    "    searchbox.clear()\n",
    "    keyword = s\n",
    "    searchbox.send_keys(keyword)\n",
    "# Opening profile \n",
    "    profile_btn=wait.until(EC.presence_of_element_located((By.XPATH,'//*[@class=\"x9f619 x78zum5 xdt5ytf x12dtdjy x6ikm8r x1odjw0f x4uap5 x18d9i69 xkhd6sd xh8yej3 x1iyjqo2 xocp1fn\"]/div/a')))\n",
    "    profile_btn.click()\n",
    "#     close search panel\n",
    "    end=driver.find_element(By.XPATH,'html/body')\n",
    "    end.click()"
   ]
  },
  {
   "cell_type": "code",
   "execution_count": 97,
   "id": "d9ad3c78",
   "metadata": {},
   "outputs": [],
   "source": [
    "# Top 10 handles when searched food\n",
    "handles_list=['food_food_surat','food.of.vadodara','yourfoodlab','thesavouryspree','foodofvadodara','foodies.of.vadodara','foodtalkindia','foodculture_vadodara','surat_foodie','suratstreetfood']"
   ]
  },
  {
   "cell_type": "markdown",
   "id": "1b693249",
   "metadata": {},
   "source": [
    "## 1. Now your friend has followed a lot of different food bloggers, he needs to analyse the habits of these bloggers."
   ]
  },
  {
   "cell_type": "markdown",
   "id": "f7dd2de2",
   "metadata": {},
   "source": [
    "### 1.1 From the list of instagram handles you obtained when you searched ‘food’ in previous project. Open the first 10 handles and find the top 5 which have the highest number of followers"
   ]
  },
  {
   "cell_type": "code",
   "execution_count": 150,
   "id": "efdb8ed7",
   "metadata": {},
   "outputs": [],
   "source": [
    "# Extracting top 5 list from the handles obtained in the previous project\n",
    "def top5list(lst):\n",
    "    try:\n",
    "        dct={}\n",
    "        for i in lst:\n",
    "#             Calling search function to open profile\n",
    "            search(i)\n",
    "            time.sleep(2)\n",
    "#             locating followers of user\n",
    "            follower = wait.until(EC.presence_of_element_located((By.XPATH,'//*[@class=\"x78zum5 x1q0g3np xieb3on\"]/li[2]/a/span')))\n",
    "#             replacing ',' with '' and typecasting to int\n",
    "            dct[i]=int(follower.get_attribute('title').replace(',',''))\n",
    "#         top 5 most followed handles\n",
    "        count=0\n",
    "        res=OrderedDict()\n",
    "        for i in sorted(dct,key=dct.get,reverse=True):\n",
    "            res[i]=dct[i]\n",
    "            count+=1\n",
    "            if(count>=5):\n",
    "                break\n",
    "        return res\n",
    "    except TimeoutException :\n",
    "        print (\"Something went wrong! Try Again\")    \n",
    "\n",
    "            "
   ]
  },
  {
   "cell_type": "code",
   "execution_count": 102,
   "id": "b346ebbb",
   "metadata": {},
   "outputs": [],
   "source": [
    "top_handles=top5list(handles_list)"
   ]
  },
  {
   "cell_type": "code",
   "execution_count": 103,
   "id": "f7abbcef",
   "metadata": {},
   "outputs": [
    {
     "name": "stdout",
     "output_type": "stream",
     "text": [
      "yourfoodlab -> 2713470\n",
      "foodtalkindia -> 309682\n",
      "food_food_surat -> 125815\n",
      "foodculture_vadodara -> 117614\n",
      "surat_foodie -> 94937\n"
     ]
    }
   ],
   "source": [
    "for fname in top_handles:\n",
    "    print(fname,'->',top_handles[fname])"
   ]
  },
  {
   "cell_type": "markdown",
   "id": "bb83307b",
   "metadata": {},
   "source": [
    "### 1.2 Now Find the number of posts these handles have done in the previous 3 days."
   ]
  },
  {
   "cell_type": "code",
   "execution_count": 9,
   "id": "a5c590ab",
   "metadata": {},
   "outputs": [],
   "source": [
    "# number of post in last n days\n",
    "def no_of_posts(day):\n",
    "    try:\n",
    "        \n",
    "#         locating first post\n",
    "        post=driver.find_element(By.XPATH,'//*[@class=\"_aabd _aa8k _aanf\"]/a')\n",
    "        post.click()\n",
    "        count = 0 \n",
    "        while True :\n",
    "#             locating date and extracting it\n",
    "            temp = wait.until(EC.presence_of_element_located((By.CLASS_NAME,'_aaqe')))\n",
    "            date_string = temp.get_attribute('datetime')\n",
    "            date = datetime.strptime(date_string[0:19], \"%Y-%m-%dT%H:%M:%S\")\n",
    "            #taking differnce between today's date and post posted date\n",
    "            if (datetime.now() - date).days > day :\n",
    "                break\n",
    "            else :\n",
    "                count += 1\n",
    "            time.sleep(2)\n",
    "#             locating next button and clicking it to proceed to next post\n",
    "            next_but = wait.until(EC.presence_of_element_located((By.XPATH,'//*[@class=\" _aaqg _aaqh\"]/button')))\n",
    "            next_but.click()\n",
    "       #closing the post\n",
    "        close=driver.find_element(By.XPATH,'//*[@class=\"x160vmok x10l6tqk x1eu8d0j x1vjfegm\"]/div')\n",
    "        close.click()\n",
    "        return count\n",
    "    \n",
    "    except TimeoutException :\n",
    "        print (\"Something went wrong! Try Again\")\n"
   ]
  },
  {
   "cell_type": "code",
   "execution_count": 118,
   "id": "767ae77c",
   "metadata": {},
   "outputs": [],
   "source": [
    "total_post_count = {}\n",
    "for i in top_handles :\n",
    "    search(i)\n",
    "    time.sleep(2)\n",
    "    count = no_of_posts(3)\n",
    "    total_post_count[i] = count"
   ]
  },
  {
   "cell_type": "code",
   "execution_count": 36,
   "id": "33868b05",
   "metadata": {},
   "outputs": [
    {
     "name": "stdout",
     "output_type": "stream",
     "text": [
      "yourfoodlab 0\n",
      "foodtalkindia 3\n",
      "food_food_surat 0\n",
      "foodculture_vadodara 0\n",
      "surat_foodie 0\n"
     ]
    }
   ],
   "source": [
    "for i in total_post_count:\n",
    "    print(i,total_post_count[i])"
   ]
  },
  {
   "cell_type": "markdown",
   "id": "d89f0f25",
   "metadata": {},
   "source": [
    "### 1.3 Depict this information using a suitable graph."
   ]
  },
  {
   "cell_type": "code",
   "execution_count": 45,
   "id": "058493f7",
   "metadata": {},
   "outputs": [
    {
     "data": {
      "image/png": "[encoded data removed]",
      "text/plain": [
       "<Figure size 640x480 with 1 Axes>"
      ]
     },
     "metadata": {},
     "output_type": "display_data"
    }
   ],
   "source": [
    "# using total_post_count to get username and number of post\n",
    "x = total_post_count.keys()\n",
    "y = total_post_count.values()\n",
    "plt.bar(x,y,color='b',alpha=0.6)\n",
    "plt.ylabel(\"Number of posts in the posted in the past 3 days\",size=10)\n",
    "plt.xlabel(\"Handle Name\",size=10)\n",
    "plt.title('Most Followed handle vs Number of recent posts ',fontsize=15, color='blue',alpha=0.8)\n",
    "plt.grid()\n",
    "plt.show()"
   ]
  },
  {
   "cell_type": "markdown",
   "id": "97c67968",
   "metadata": {},
   "source": [
    "## 2. Your friend also needs a list of hashtags that he should use in his posts.\n"
   ]
  },
  {
   "cell_type": "markdown",
   "id": "85fc6f4d",
   "metadata": {},
   "source": [
    "### 2.1 Open the 5 handles you obtained in the last question, and scrape the content of the first 10 posts of each handle."
   ]
  },
  {
   "cell_type": "code",
   "execution_count": 152,
   "id": "0836ca45",
   "metadata": {},
   "outputs": [],
   "source": [
    "def extract_content(lst):\n",
    "    try :\n",
    "        hashtags_list = []\n",
    "        for user in lst:\n",
    "            #This fuction will search a user and open that profile\n",
    "            search(user)\n",
    "            time.sleep(2)\n",
    "            #just for scrolling to getting post\n",
    "            driver.execute_script('window.scrollTo(0, 3000);')\n",
    "            time.sleep(2)\n",
    "            driver.execute_script('window.scrollTo(0, -3000);')\n",
    "            time.sleep(2)\n",
    "            #locating the post of the user\n",
    "            posts=driver.find_elements(By.XPATH,'//*[@class=\"_aabd _aa8k _aanf\"]/a')\n",
    "#             iterating over all 10 posts to extract its content\n",
    "            for post in posts[:10]:\n",
    "                post.click()\n",
    "                time.sleep(2)\n",
    "                #locating all hashtag used in this post\n",
    "                hashtags=driver.find_elements(By.XPATH,'//*[@class=\"_aacl _aaco _aacu _aacx _aad7 _aade\"]/a')\n",
    "                for hashtag in hashtags:\n",
    "                    #appending in list\n",
    "                    k=hashtag.text\n",
    "                    if(k[0]=='#'):\n",
    "                        hashtags_list.append(hashtag.text)\n",
    "#                         closing the post\n",
    "                close=driver.find_element(By.XPATH,'//*[@class=\"x160vmok x10l6tqk x1eu8d0j x1vjfegm\"]/div')\n",
    "                time.sleep(1)\n",
    "                close.click()\n",
    "        return hashtags_list\n",
    "    \n",
    "    except TimeoutException :\n",
    "        print (\"Something went wrong! Try Again\")"
   ]
  },
  {
   "cell_type": "code",
   "execution_count": 120,
   "id": "d1fee099",
   "metadata": {},
   "outputs": [],
   "source": [
    "handles = list(total_post_count.keys())\n",
    "hashtags = extract_content(handles)"
   ]
  },
  {
   "cell_type": "code",
   "execution_count": 121,
   "id": "2939810d",
   "metadata": {},
   "outputs": [
    {
     "name": "stdout",
     "output_type": "stream",
     "text": [
      "['#yourfoodlab', '#sanjyotkeer', '#foodporn', '#paneertikkasandwich', '#gutli', '#yourfoodlab', '#sanjyotkeer', '#thalipeeth', '#foodporn', '#yourfoodlab', '#sanjyotkeer', '#gattekisabzi', '#foodporn', '#instagram', '#EverestSpices', '#Everest', '#EverestShahiPaneerMasala', '#TasteMeinBestEverest', '#RestaurantStyleShahiPaneer', '#yourfoodlab', '#sanjyotkeer', '#crispychicken', '#foodporn', '#yourfoodlab', '#sanjyotkeer', '#dalpanchmel', '#foodporn', '#trufflefries', '#FrenchFriesDay', '#frenchfries', '#delhincr', '#flavours', '#snacks', '#foodtalkindia', '#delicious', '#yummy', '#discover', '#ftiinsider', '#worthmoney', '#delhincr', '#flavours', '#food', '#foodtalkindia', '#delicious', '#yummy', '#discover', '#heartyportions', '#delhi', '#food', '#wholesome', '#meals', '#flavours', '#food', '#foodtalkindia', '#delicious', '#yummy', '#discover', '#NewInTown', '#wolf', '#cocktaillab', '#delhi', '#globalcuisine', '#drinks', '#food', '#foodtalkindia', '#delicious', '#yummy', '#discover', '#ChugAlongToTheHills', '#cider', '#bira', '#hillstation', '#ales', '#delhi', '#drinks', '#summer', '#food', '#foodtalkindia', '#delicious', '#yummy', '#discover', '#ftiinsider', '#vegan', '#ramen', '#delhi', '#monsoon', '#food', '#foodtalkindia', '#delicious', '#yummy', '#discover', '#EpicEpicure', '#nagacuisine', '#hiddengems', '#tribal', '#nagaland', '#food', '#foodtalkindia', '#delicious', '#yummy', '#discover', '#koreanbakeries', '#korean', '#bakeries', '#delhi', '#food', '#foodtalkindia', '#delicious', '#yummy', '#discover', '#ChugAlongToTheHills', '#bira91', '#hillstation', '#cider', '#ales', '#drinks', '#mumbai', '#summer', '#food', '#foodtalkindia', '#delicious', '#yummy', '#instafood', '#discover', '#thaifood', '#thairestaurants', '#orderin', '#thai', '#flavours', '#food', '#foodtalkindia', '#delicious', '#yummy', '#discover', '#chaap', '#kurkure', '#springrolls', '#biryani', '#tarrotcards', '#tarrotreading', '#surat', '#healing', '#reiki', '#evileye', '#moviedate', '#privatetheater', '#privatemoviedate', '#surat', '#celebration', '#foodculture_vadodara', '#travel', '#travelling', '#travelblogger', '#traveladdict', '#statueofunity', '#unique', '#india', '#indiaculture', '#sardar', '#indiangirlstravel', '#gujaratcity', '#gujarattourism', '#tourism', '#culture', '#explorepage', '#exploretocreate', '#reelsinstagram', '#reelsinsta', '#viral', '#trendingreels', '#tent', '#narmada', '#gujaratis', '#hiddengem', '#tour', '#foodculture_vadodara', '#viral', '#trendingreels', '#ahmedabad_instagram', '#ahmedabadfoodie', '#ahmedabadcity', '#ahmedabadstreetfood', '#ahmedabad', '#india', '#mustvisit', '#travelling', '#travel', '#travelphotography', '#travelblogger', '#gujarattourism', '#maharashtratourism', '#aqaurium', '#marine', '#sea', '#penguins', '#europe', '#dubai', '#vadodara', '#foodculture_vadodara', '#staycation', '#getaway', '#travel', '#travelphotography', '#travelblogger', '#travelgram', '#traveling', '#travelling', '#weekendvibes', '#love', '#nature', '#naturelovers', '#naturephotography', '#vadodarablogger', '#vadodara_igers', '#vadodara_baroda', '#vadodara_lover', '#exploreeverything', '#explorepage', '#exploremore', '#instatravel', '#travel', '#reelsinstagram', '#viralvídeos', '#bali', '#vibes', '#foodculture_vadodara', '#trending', '#viralvideos', '#reelsinstagram', '#women', '#reelsindia', '#instagood', '#reelkarofeelkaro', '#reelitfeelit', '#reels', '#reelsvideo', '#explore', '#fashionstyle', '#fashion', '#fashionblogger', '#girls', '#fashionweek', '#fyp', '#fashiongram', '#family', '#friends', '#kids', '#love', '#sale', '#brands', '#zara', '#croptop', '#explorepage', '#club', '#fun', '#foodculture_vadodara', '#foods', '#reelsinstagram', '#yummy', '#reelkarofeelkaro', '#nachos', '#reelsviral', '#reels', '#chai', '#reelsindia', '#reelsvideo', '#reelitfeelit', '#vadodarafood', '#vadodarafoodies', '#friends', '#trending', '#love', '#fyp', '#streetfood', '#india', '#kids', '#kurkure', '#bhel', '#chaat', '#explorepage', '#family', '#instagood', '#instadaily', '#monsoon', '#rainyday', '#vadodara', '#foodculture_vadodara', '#reelsinstagram', '#fyp', '#reelkarofeelkaro', '#yummy', '#reelsviral', '#reels', '#trending', '#viralvideos', '#explorepage', '#reelsindia', '#reelsvideo', '#reelitfeelit', '#vadodarafood', '#vadodarafoodies', '#love', '#authentic', '#chole', '#kulche', '#punjabistyle', '#streetfood', '#india', '#family', '#friends', '#kids', '#spicy', '#butter', '#instagood', '#instamood', '#pavagadh', '#foodculture_vadodara', '#trekking', '#trek', '#explorepage', '#vadodara', '#weekend', '#trending', '#vadodaradiaries', '#monsoon', '#rainyday', '#rain', '#rainbow', '#enjoy', '#fun', '#fyp', '#love', '#family', '#friends', '#kids', '#viralpost', '#nature', '#green', '#instagood', '#instadaily', '#instapost', '#pic', '#pictures', '#post', '#newpost', '#foodculture_vadodara', '#foodstagram', '#foods', '#reelsinstagram', '#reelkarofeelkaro', '#reelsviral', '#reels', '#love', '#reelsindia', '#reelsvideo', '#reelitfeelit', '#experience', '#lavish', '#luxury', '#family', '#explorepage', '#friends', '#vadodarafood', '#kids', '#vadodarafoodies', '#fyp', '#trending', '#viralvideos', '#instagood', '#instafood', '#vadodarafood', '#vadodarafoodies', '#viralvideos', '#trending', '#reelsinstagram', '#explorepage', '#reelkarofeelkaro', '#instagood', '#reelsviral', '#reels', '#momos', '#reelsindia', '#reelsvideo', '#reelitfeelit', '#yummy', '#family', '#friends', '#kids', '#spicy', '#rainyday', '#maggie', '#monsoon', '#hot', '#fyp', '#streetfood', '#chai', '#foodculture_vadodara', '#foods', '#foodie', '#yummy', '#reelsinstagram', '#fyp', '#reelkarofeelkaro', '#reelsviral', '#reels', '#kids', '#reelsindia', '#reelsvideo', '#reelitfeelit', '#trending', '#viralvideos', '#instafood', '#vadodarafood', '#family', '#vadodarafoodies', '#friends', '#marathi', '#maharashtrian', '#mumbai', '#instagood', '#iamsuratcity', '#suratfoodie', '#foodie', '#share', '#guide', '#surat', '#iamsuratcity', '#suratfoodie', '#foodie', '#listicle', '#placestovisit', '#adajan', '#pal', '#explorepage', '#drinks', '#explorepage', '#hummus', '#hummushouse', '#surat', '#iamsuratcity', '#suratfood', '#suratfoodie', '#reels', '#reelsinstagram', '#explorepage', '#explore', '#reelsinstagram', '#falafel', '#falafels', '#hummus', '#surat', '#1990', '#foodie', '#iamsuratcity', '#iamsurat', '#food', '#surat', '#suratfoodies', '#reelsinstagram', '#reels', '#dairymilk', '#foodie', '#latte', '#coffee', '#staytune', '#somethingnew', '#cafe', '#airport', '#arrive', '#departure', '#hungry', '#food', '#suratfoodies', '#surat', '#suratfoodie', '#food', '#foodie', '#foodlover', '#iamsuratcity', '#foodpoint', '#moodliftcafe']\n"
     ]
    }
   ],
   "source": [
    "print(hashtags)"
   ]
  },
  {
   "cell_type": "markdown",
   "id": "61eebc3c",
   "metadata": {},
   "source": [
    "### 2.2 Prepare a list of all words used in all the scraped posts and calculate the frequency of each word."
   ]
  },
  {
   "cell_type": "code",
   "execution_count": 122,
   "id": "646b5f79",
   "metadata": {},
   "outputs": [
    {
     "name": "stdout",
     "output_type": "stream",
     "text": [
      "#yummy 14\n",
      "#food 13\n",
      "#explorepage 11\n",
      "#reelsinstagram 11\n",
      "#foodtalkindia 10\n",
      "#delicious 10\n",
      "#discover 10\n",
      "#foodculture_vadodara 9\n",
      "#reels 8\n",
      "#surat 7\n",
      "#trending 7\n",
      "#instagood 7\n",
      "#fyp 7\n",
      "#family 7\n",
      "#friends 7\n",
      "#kids 7\n",
      "#love 6\n",
      "#reelsindia 6\n",
      "#reelkarofeelkaro 6\n",
      "#reelitfeelit 6\n",
      "#reelsvideo 6\n",
      "#foodie 6\n",
      "#yourfoodlab 5\n",
      "#sanjyotkeer 5\n",
      "#foodporn 5\n",
      "#delhi 5\n",
      "#viralvideos 5\n",
      "#reelsviral 5\n",
      "#vadodarafood 5\n",
      "#vadodarafoodies 5\n",
      "#iamsuratcity 5\n",
      "#flavours 4\n",
      "#drinks 4\n",
      "#monsoon 4\n",
      "#travel 4\n",
      "#india 4\n",
      "#suratfoodie 4\n",
      "#instafood 3\n",
      "#travelling 3\n",
      "#travelblogger 3\n",
      "#vadodara 3\n",
      "#foods 3\n",
      "#streetfood 3\n",
      "#rainyday 3\n",
      "#delhincr 2\n",
      "#ftiinsider 2\n",
      "#ChugAlongToTheHills 2\n",
      "#cider 2\n",
      "#hillstation 2\n",
      "#ales 2\n",
      "#summer 2\n",
      "#mumbai 2\n",
      "#kurkure 2\n",
      "#gujarattourism 2\n",
      "#viral 2\n",
      "#trendingreels 2\n",
      "#travelphotography 2\n",
      "#nature 2\n",
      "#explore 2\n",
      "#fun 2\n",
      "#chai 2\n",
      "#instadaily 2\n",
      "#spicy 2\n",
      "#hummus 2\n",
      "#suratfoodies 2\n",
      "#paneertikkasandwich 1\n",
      "#gutli 1\n",
      "#thalipeeth 1\n",
      "#gattekisabzi 1\n",
      "#instagram 1\n",
      "#EverestSpices 1\n",
      "#Everest 1\n",
      "#EverestShahiPaneerMasala 1\n",
      "#TasteMeinBestEverest 1\n",
      "#RestaurantStyleShahiPaneer 1\n",
      "#crispychicken 1\n",
      "#dalpanchmel 1\n",
      "#trufflefries 1\n",
      "#FrenchFriesDay 1\n",
      "#frenchfries 1\n",
      "#snacks 1\n",
      "#worthmoney 1\n",
      "#heartyportions 1\n",
      "#wholesome 1\n",
      "#meals 1\n",
      "#NewInTown 1\n",
      "#wolf 1\n",
      "#cocktaillab 1\n",
      "#globalcuisine 1\n",
      "#bira 1\n",
      "#vegan 1\n",
      "#ramen 1\n",
      "#EpicEpicure 1\n",
      "#nagacuisine 1\n",
      "#hiddengems 1\n",
      "#tribal 1\n",
      "#nagaland 1\n",
      "#koreanbakeries 1\n",
      "#korean 1\n",
      "#bakeries 1\n",
      "#bira91 1\n",
      "#thaifood 1\n",
      "#thairestaurants 1\n",
      "#orderin 1\n",
      "#thai 1\n",
      "#chaap 1\n",
      "#springrolls 1\n",
      "#biryani 1\n",
      "#tarrotcards 1\n",
      "#tarrotreading 1\n",
      "#healing 1\n",
      "#reiki 1\n",
      "#evileye 1\n",
      "#moviedate 1\n",
      "#privatetheater 1\n",
      "#privatemoviedate 1\n",
      "#celebration 1\n",
      "#traveladdict 1\n",
      "#statueofunity 1\n",
      "#unique 1\n",
      "#indiaculture 1\n",
      "#sardar 1\n",
      "#indiangirlstravel 1\n",
      "#gujaratcity 1\n",
      "#tourism 1\n",
      "#culture 1\n",
      "#exploretocreate 1\n",
      "#reelsinsta 1\n",
      "#tent 1\n",
      "#narmada 1\n",
      "#gujaratis 1\n",
      "#hiddengem 1\n",
      "#tour 1\n",
      "#ahmedabad_instagram 1\n",
      "#ahmedabadfoodie 1\n",
      "#ahmedabadcity 1\n",
      "#ahmedabadstreetfood 1\n",
      "#ahmedabad 1\n",
      "#mustvisit 1\n",
      "#maharashtratourism 1\n",
      "#aqaurium 1\n",
      "#marine 1\n",
      "#sea 1\n",
      "#penguins 1\n",
      "#europe 1\n",
      "#dubai 1\n",
      "#staycation 1\n",
      "#getaway 1\n",
      "#travelgram 1\n",
      "#traveling 1\n",
      "#weekendvibes 1\n",
      "#naturelovers 1\n",
      "#naturephotography 1\n",
      "#vadodarablogger 1\n",
      "#vadodara_igers 1\n",
      "#vadodara_baroda 1\n",
      "#vadodara_lover 1\n",
      "#exploreeverything 1\n",
      "#exploremore 1\n",
      "#instatravel 1\n",
      "#viralvídeos 1\n",
      "#bali 1\n",
      "#vibes 1\n",
      "#women 1\n",
      "#fashionstyle 1\n",
      "#fashion 1\n",
      "#fashionblogger 1\n",
      "#girls 1\n",
      "#fashionweek 1\n",
      "#fashiongram 1\n",
      "#sale 1\n",
      "#brands 1\n",
      "#zara 1\n",
      "#croptop 1\n",
      "#club 1\n",
      "#nachos 1\n",
      "#bhel 1\n",
      "#chaat 1\n",
      "#authentic 1\n",
      "#chole 1\n",
      "#kulche 1\n",
      "#punjabistyle 1\n",
      "#butter 1\n",
      "#instamood 1\n",
      "#pavagadh 1\n",
      "#trekking 1\n",
      "#trek 1\n",
      "#weekend 1\n",
      "#vadodaradiaries 1\n",
      "#rain 1\n",
      "#rainbow 1\n",
      "#enjoy 1\n",
      "#viralpost 1\n",
      "#green 1\n",
      "#instapost 1\n",
      "#pic 1\n",
      "#pictures 1\n",
      "#post 1\n",
      "#newpost 1\n",
      "#foodstagram 1\n",
      "#experience 1\n",
      "#lavish 1\n",
      "#luxury 1\n",
      "#momos 1\n",
      "#maggie 1\n",
      "#hot 1\n",
      "#marathi 1\n",
      "#maharashtrian 1\n",
      "#share 1\n",
      "#guide 1\n",
      "#listicle 1\n",
      "#placestovisit 1\n",
      "#adajan 1\n",
      "#pal 1\n",
      "#hummushouse 1\n",
      "#suratfood 1\n",
      "#falafel 1\n",
      "#falafels 1\n",
      "#1990 1\n",
      "#iamsurat 1\n",
      "#dairymilk 1\n",
      "#latte 1\n",
      "#coffee 1\n",
      "#staytune 1\n",
      "#somethingnew 1\n",
      "#cafe 1\n",
      "#airport 1\n",
      "#arrive 1\n",
      "#departure 1\n",
      "#hungry 1\n",
      "#foodlover 1\n",
      "#foodpoint 1\n",
      "#moodliftcafe 1\n"
     ]
    }
   ],
   "source": [
    "dct = {}\n",
    "words_list = []\n",
    "for word in hashtags:\n",
    "    dct[word] = dct.get(word,0) + 1\n",
    "    \n",
    "for i in sorted(dct, key=dct.get, reverse=True):\n",
    "    words_list.append([i,dct[i]])\n",
    "    print(i,dct[i])"
   ]
  },
  {
   "cell_type": "markdown",
   "id": "557faf8e",
   "metadata": {},
   "source": [
    "### 2.3 Create a csv file with two columns : the word and its frequency"
   ]
  },
  {
   "cell_type": "code",
   "execution_count": 123,
   "id": "ea1e915e",
   "metadata": {},
   "outputs": [
    {
     "data": {
      "text/html": [
       "<div>\n",
       "<style scoped>\n",
       "    .dataframe tbody tr th:only-of-type {\n",
       "        vertical-align: middle;\n",
       "    }\n",
       "\n",
       "    .dataframe tbody tr th {\n",
       "        vertical-align: top;\n",
       "    }\n",
       "\n",
       "    .dataframe thead th {\n",
       "        text-align: right;\n",
       "    }\n",
       "</style>\n",
       "<table border=\"1\" class=\"dataframe\">\n",
       "  <thead>\n",
       "    <tr style=\"text-align: right;\">\n",
       "      <th></th>\n",
       "      <th>Words</th>\n",
       "      <th>Frequency</th>\n",
       "    </tr>\n",
       "  </thead>\n",
       "  <tbody>\n",
       "    <tr>\n",
       "      <th>0</th>\n",
       "      <td>#yummy</td>\n",
       "      <td>14</td>\n",
       "    </tr>\n",
       "    <tr>\n",
       "      <th>1</th>\n",
       "      <td>#food</td>\n",
       "      <td>13</td>\n",
       "    </tr>\n",
       "    <tr>\n",
       "      <th>2</th>\n",
       "      <td>#explorepage</td>\n",
       "      <td>11</td>\n",
       "    </tr>\n",
       "    <tr>\n",
       "      <th>3</th>\n",
       "      <td>#reelsinstagram</td>\n",
       "      <td>11</td>\n",
       "    </tr>\n",
       "    <tr>\n",
       "      <th>4</th>\n",
       "      <td>#foodtalkindia</td>\n",
       "      <td>10</td>\n",
       "    </tr>\n",
       "    <tr>\n",
       "      <th>5</th>\n",
       "      <td>#delicious</td>\n",
       "      <td>10</td>\n",
       "    </tr>\n",
       "    <tr>\n",
       "      <th>6</th>\n",
       "      <td>#discover</td>\n",
       "      <td>10</td>\n",
       "    </tr>\n",
       "    <tr>\n",
       "      <th>7</th>\n",
       "      <td>#foodculture_vadodara</td>\n",
       "      <td>9</td>\n",
       "    </tr>\n",
       "    <tr>\n",
       "      <th>8</th>\n",
       "      <td>#reels</td>\n",
       "      <td>8</td>\n",
       "    </tr>\n",
       "    <tr>\n",
       "      <th>9</th>\n",
       "      <td>#surat</td>\n",
       "      <td>7</td>\n",
       "    </tr>\n",
       "  </tbody>\n",
       "</table>\n",
       "</div>"
      ],
      "text/plain": [
       "                   Words  Frequency\n",
       "0                 #yummy         14\n",
       "1                  #food         13\n",
       "2           #explorepage         11\n",
       "3        #reelsinstagram         11\n",
       "4         #foodtalkindia         10\n",
       "5             #delicious         10\n",
       "6              #discover         10\n",
       "7  #foodculture_vadodara          9\n",
       "8                 #reels          8\n",
       "9                 #surat          7"
      ]
     },
     "execution_count": 123,
     "metadata": {},
     "output_type": "execute_result"
    }
   ],
   "source": [
    "df = pd.DataFrame(words_list,columns=['Words','Frequency'])\n",
    "#using .to_csv pandas function to convert dataframe to csv\n",
    "df.to_csv('words_frequency.csv',index=False)\n",
    "df.head(10)"
   ]
  },
  {
   "cell_type": "markdown",
   "id": "8c9c4e19",
   "metadata": {},
   "source": [
    "### 2.4 Now, find the hashtags that were most popular among these bloggers"
   ]
  },
  {
   "cell_type": "code",
   "execution_count": 153,
   "id": "d72ca49f",
   "metadata": {},
   "outputs": [
    {
     "name": "stdout",
     "output_type": "stream",
     "text": [
      "#yummy\n"
     ]
    }
   ],
   "source": [
    "# most popular hashtag \n",
    "print(words_list[0][0])"
   ]
  },
  {
   "cell_type": "markdown",
   "id": "60061a24",
   "metadata": {},
   "source": [
    "### 2.5 Plot a Pie Chart of the top 5 hashtags obtained and the number of times they were used by these bloggers in the scraped posts."
   ]
  },
  {
   "cell_type": "code",
   "execution_count": 125,
   "id": "86a45d76",
   "metadata": {},
   "outputs": [
    {
     "data": {
      "image/png": "[encoded data removed]",
      "text/plain": [
       "<Figure size 1200x600 with 1 Axes>"
      ]
     },
     "metadata": {},
     "output_type": "display_data"
    }
   ],
   "source": [
    "#using answer of problem 2.2\n",
    "hashtag_name = [words_list[0][0],words_list[1][0],words_list[2][0],words_list[3][0],words_list[4][0]]\n",
    "count = [words_list[0][1],words_list[1][1],words_list[2][1],words_list[3][1],words_list[4][1]]\n",
    "plt.figure(figsize=(12,6))\n",
    "plt.pie(count,labels=hashtag_name,autopct='%0.2f%%',radius=1,counterclock=False,startangle=110)\n",
    "plt.title('Top 5 Hashtags used by bloggers ',fontsize=20, color='green',alpha=0.8)\n",
    "plt.show()"
   ]
  },
  {
   "cell_type": "markdown",
   "id": "3f776406",
   "metadata": {},
   "source": [
    "## 3. You need to also calculate average followers : likes ratio for the obtained handles.\n",
    "Followers : Likes ratio is calculated as follows:"
   ]
  },
  {
   "cell_type": "markdown",
   "id": "0c4124fa",
   "metadata": {},
   "source": [
    "### 3.1 Find out the likes of the top 10 posts of the 5 handles obtained earlier."
   ]
  },
  {
   "cell_type": "code",
   "execution_count": 154,
   "id": "d44220d3",
   "metadata": {},
   "outputs": [],
   "source": [
    "def get_likes(user):\n",
    "    try :\n",
    "            likes = []\n",
    "            #This function will search a user and open that profile\n",
    "            search(user)\n",
    "            time.sleep(2)\n",
    "            #just for scrolling\n",
    "            driver.execute_script('window.scrollTo(0, 3000);')\n",
    "            time.sleep(2)\n",
    "            driver.execute_script('window.scrollTo(0, -3000);')\n",
    "            time.sleep(2)\n",
    "            #locating the post of the user\n",
    "            posts=driver.find_elements(By.XPATH,'//*[@class=\"_aabd _aa8k _aanf\"]/a')\n",
    "            for post in posts[:10]:\n",
    "                post.click()\n",
    "                time.sleep(2)\n",
    "\n",
    "                like=wait.until(EC.presence_of_element_located((By.XPATH,'//*[@class=\"_ae5m _ae5n _ae5o\"]/div/div/span/a/span/span')))\n",
    "                no_of_likes = (like.text).replace(',' , '')\n",
    "                likes.append(int(no_of_likes))\n",
    "                time.sleep(1)\n",
    "#                 closing the post\n",
    "                close=driver.find_element(By.XPATH,'//*[@class=\"x160vmok x10l6tqk x1eu8d0j x1vjfegm\"]/div')\n",
    "                time.sleep(1)\n",
    "                close.click()\n",
    "            return likes\n",
    "    except TimeoutException :\n",
    "        print (\"Something went wrong! Try Again\")\n",
    "                    "
   ]
  },
  {
   "cell_type": "code",
   "execution_count": 137,
   "id": "05af3ab3",
   "metadata": {},
   "outputs": [
    {
     "name": "stdout",
     "output_type": "stream",
     "text": [
      "Number of likes of the top 10 posts of yourfoodlab :\n",
      "30664 Likes\n",
      "2625 Likes\n",
      "50874 Likes\n",
      "42337 Likes\n",
      "50632 Likes\n",
      "2894 Likes\n",
      "9319 Likes\n",
      "47538 Likes\n",
      "21631 Likes\n",
      "3755 Likes\n",
      "\n",
      "Number of likes of the top 10 posts of foodtalkindia :\n",
      "133 Likes\n",
      "186 Likes\n",
      "261 Likes\n",
      "236 Likes\n",
      "410 Likes\n",
      "428 Likes\n",
      "375 Likes\n",
      "647 Likes\n",
      "199 Likes\n",
      "320 Likes\n",
      "\n",
      "Number of likes of the top 10 posts of food_food_surat :\n",
      "4441 Likes\n",
      "1334 Likes\n",
      "6572 Likes\n",
      "853 Likes\n",
      "1802 Likes\n",
      "717 Likes\n",
      "2567 Likes\n",
      "2484 Likes\n",
      "981 Likes\n",
      "1836 Likes\n",
      "\n",
      "Number of likes of the top 10 posts of foodculture_vadodara :\n",
      "2688 Likes\n",
      "3318 Likes\n",
      "13120 Likes\n",
      "533 Likes\n",
      "1457 Likes\n",
      "2877 Likes\n",
      "921 Likes\n",
      "708 Likes\n",
      "773 Likes\n",
      "1279 Likes\n",
      "\n",
      "Number of likes of the top 10 posts of surat_foodie :\n",
      "1839 Likes\n",
      "4495 Likes\n",
      "4458 Likes\n",
      "216 Likes\n",
      "1343 Likes\n",
      "770 Likes\n",
      "352 Likes\n",
      "204 Likes\n",
      "4090 Likes\n",
      "406 Likes\n",
      "\n"
     ]
    }
   ],
   "source": [
    "#dct will store username with list of likes\n",
    "dct = {}\n",
    "for user in handles : \n",
    "    likes = get_likes(user)\n",
    "    dct[user] = likes\n",
    "    print('Number of likes of the top 10 posts of',user,':')\n",
    "    for i in likes :\n",
    "        print(i,'Likes')\n",
    "    print()"
   ]
  },
  {
   "cell_type": "markdown",
   "id": "6fb2eb6b",
   "metadata": {},
   "source": [
    "### 3.2 Calculate the average likes for a handle."
   ]
  },
  {
   "cell_type": "code",
   "execution_count": 139,
   "id": "98b6db31",
   "metadata": {},
   "outputs": [],
   "source": [
    "#This function will return a dictionary of {'username':average like}\n",
    "def avg_likes(d):\n",
    "    avg_likes = {}\n",
    "    for key,val in d.items():\n",
    "            avg = sum(val) // 10\n",
    "            avg_likes[key] = avg\n",
    "    return avg_likes"
   ]
  },
  {
   "cell_type": "code",
   "execution_count": 140,
   "id": "b2f50965",
   "metadata": {},
   "outputs": [
    {
     "name": "stdout",
     "output_type": "stream",
     "text": [
      "Average likes for each handle are :\n",
      "yourfoodlab : 26226\n",
      "foodtalkindia : 319\n",
      "food_food_surat : 2358\n",
      "foodculture_vadodara : 2767\n",
      "surat_foodie : 1817\n"
     ]
    }
   ],
   "source": [
    "avg_likes = avg_likes(dct)\n",
    "\n",
    "print('Average likes for each handle are :')\n",
    "for user,likes in avg_likes.items():\n",
    "    print(user, ':', likes)"
   ]
  },
  {
   "cell_type": "markdown",
   "id": "7c7987ec",
   "metadata": {},
   "source": [
    "### 3.3 Divide the average likes obtained from the number of followers of the handle to get the average followers:like ratio of each handle."
   ]
  },
  {
   "cell_type": "code",
   "execution_count": 141,
   "id": "94da3657",
   "metadata": {},
   "outputs": [],
   "source": [
    "#This function will return dictionary of {'username':avg followers-like ratio}\n",
    "def avg_follower_like_ratio(top_handles,avg_like,users):\n",
    "    foll_like = {}\n",
    "    for i in range(5) :\n",
    "        foll_like[users[i]] = top_handles[users[i]]//avg_like[users[i]]\n",
    "    return foll_like"
   ]
  },
  {
   "cell_type": "code",
   "execution_count": 143,
   "id": "0bce7497",
   "metadata": {},
   "outputs": [
    {
     "name": "stdout",
     "output_type": "stream",
     "text": [
      "Average followers:like ratio of each handle :\n",
      "yourfoodlab : 103\n",
      "foodtalkindia : 970\n",
      "food_food_surat : 53\n",
      "foodculture_vadodara : 42\n",
      "surat_foodie : 52\n"
     ]
    }
   ],
   "source": [
    "\n",
    "#extracing username from top_handles\n",
    "top_handles_names = list(top_handles.keys())\n",
    "#now calling function getavg_foll_like_ratio(top_handles,avg_like,users) \n",
    "avg_fol_like_ratio = avg_follower_like_ratio(top_handles, avg_likes, top_handles_names)\n",
    "print('Average followers:like ratio of each handle :')\n",
    "for user,ratio in avg_fol_like_ratio.items():\n",
    "    print(user, ':', ratio)"
   ]
  },
  {
   "cell_type": "markdown",
   "id": "ce623cd4",
   "metadata": {},
   "source": [
    "### 3.4 Create a bar graph to depict the above obtained information. "
   ]
  },
  {
   "cell_type": "code",
   "execution_count": 146,
   "id": "6cbeb9fc",
   "metadata": {},
   "outputs": [
    {
     "data": {
      "image/png": "[encoded data removed]",
      "text/plain": [
       "<Figure size 640x480 with 1 Axes>"
      ]
     },
     "metadata": {},
     "output_type": "display_data"
    }
   ],
   "source": [
    "#for this I will use answer of problem 3.2 \n",
    "username = list(avg_likes.keys())\n",
    "avg_like = list(avg_likes.values())\n",
    "\n",
    "plt.bar(username,avg_like,color='b',alpha=0.6)\n",
    "plt.ylabel(\"Average Likes\",size=15)\n",
    "plt.xlabel(\"Handle's Name\",size=15)\n",
    "plt.title('Average like for each handle ',fontsize=20, color='blue',alpha=0.8)\n",
    "plt.grid()\n",
    "plt.show()"
   ]
  },
  {
   "cell_type": "code",
   "execution_count": 148,
   "id": "f73bf220",
   "metadata": {},
   "outputs": [
    {
     "data": {
      "image/png": "[encoded data removed]",
      "text/plain": [
       "<Figure size 640x480 with 1 Axes>"
      ]
     },
     "metadata": {},
     "output_type": "display_data"
    }
   ],
   "source": [
    "#For this I will use answer of problem 3.3\n",
    "username = list(avg_fol_like_ratio.keys())\n",
    "avg_like = list(avg_fol_like_ratio.values())\n",
    "\n",
    "plt.bar(username,avg_like,color='green',alpha=0.6)\n",
    "plt.ylabel(\"Average Followers:Like Ratio\",size=12)\n",
    "plt.xlabel(\"Handle's Name\",size=12)\n",
    "plt.title('Average Followers:Like Ratio of Each Handle ',fontsize=20, color='green',alpha=0.8)\n",
    "plt.grid()\n",
    "plt.show()"
   ]
  },
  {
   "cell_type": "code",
   "execution_count": 10,
   "id": "fa7ebcc6",
   "metadata": {},
   "outputs": [
    {
     "ename": "NoSuchElementException",
     "evalue": "Message: no such element: Unable to locate element: {\"method\":\"xpath\",\"selector\":\"//*[@class=\"_aabd _aa8k _aanf\"]/a\"}\n  (Session info: chrome=114.0.5735.248); For documentation on this error, please visit: https://www.selenium.dev/documentation/webdriver/troubleshooting/errors#no-such-element-exception\nStacktrace:\nBacktrace:\n\tGetHandleVerifier [0x0100A813+48355]\n\t(No symbol) [0x00F9C4B1]\n\t(No symbol) [0x00EA5358]\n\t(No symbol) [0x00ED09A5]\n\t(No symbol) [0x00ED0B3B]\n\t(No symbol) [0x00EFE232]\n\t(No symbol) [0x00EEA784]\n\t(No symbol) [0x00EFC922]\n\t(No symbol) [0x00EEA536]\n\t(No symbol) [0x00EC82DC]\n\t(No symbol) [0x00EC93DD]\n\tGetHandleVerifier [0x0126AABD+2539405]\n\tGetHandleVerifier [0x012AA78F+2800735]\n\tGetHandleVerifier [0x012A456C+2775612]\n\tGetHandleVerifier [0x010951E0+616112]\n\t(No symbol) [0x00FA5F8C]\n\t(No symbol) [0x00FA2328]\n\t(No symbol) [0x00FA240B]\n\t(No symbol) [0x00F94FF7]\n\tBaseThreadInitThunk [0x757F7D59+25]\n\tRtlInitializeExceptionChain [0x76F3B79B+107]\n\tRtlClearBits [0x76F3B71F+191]\n",
     "output_type": "error",
     "traceback": [
      "\u001b[1;31m---------------------------------------------------------------------------\u001b[0m",
      "\u001b[1;31mNoSuchElementException\u001b[0m                    Traceback (most recent call last)",
      "Cell \u001b[1;32mIn[10], line 1\u001b[0m\n\u001b[1;32m----> 1\u001b[0m count\u001b[38;5;241m=\u001b[39m\u001b[43mno_of_posts\u001b[49m\u001b[43m(\u001b[49m\u001b[38;5;241;43m30\u001b[39;49m\u001b[43m)\u001b[49m\n",
      "Cell \u001b[1;32mIn[9], line 6\u001b[0m, in \u001b[0;36mno_of_posts\u001b[1;34m(day)\u001b[0m\n\u001b[0;32m      2\u001b[0m \u001b[38;5;28;01mdef\u001b[39;00m \u001b[38;5;21mno_of_posts\u001b[39m(day):\n\u001b[0;32m      3\u001b[0m     \u001b[38;5;28;01mtry\u001b[39;00m:\n\u001b[0;32m      4\u001b[0m         \n\u001b[0;32m      5\u001b[0m \u001b[38;5;66;03m#         locating first post\u001b[39;00m\n\u001b[1;32m----> 6\u001b[0m         post\u001b[38;5;241m=\u001b[39m\u001b[43mdriver\u001b[49m\u001b[38;5;241;43m.\u001b[39;49m\u001b[43mfind_element\u001b[49m\u001b[43m(\u001b[49m\u001b[43mBy\u001b[49m\u001b[38;5;241;43m.\u001b[39;49m\u001b[43mXPATH\u001b[49m\u001b[43m,\u001b[49m\u001b[38;5;124;43m'\u001b[39;49m\u001b[38;5;124;43m//*[@class=\u001b[39;49m\u001b[38;5;124;43m\"\u001b[39;49m\u001b[38;5;124;43m_aabd _aa8k _aanf\u001b[39;49m\u001b[38;5;124;43m\"\u001b[39;49m\u001b[38;5;124;43m]/a\u001b[39;49m\u001b[38;5;124;43m'\u001b[39;49m\u001b[43m)\u001b[49m\n\u001b[0;32m      7\u001b[0m         post\u001b[38;5;241m.\u001b[39mclick()\n\u001b[0;32m      8\u001b[0m         count \u001b[38;5;241m=\u001b[39m \u001b[38;5;241m0\u001b[39m \n",
      "File \u001b[1;32mG:\\new\\lib\\site-packages\\selenium\\webdriver\\remote\\webdriver.py:740\u001b[0m, in \u001b[0;36mWebDriver.find_element\u001b[1;34m(self, by, value)\u001b[0m\n\u001b[0;32m    737\u001b[0m     by \u001b[38;5;241m=\u001b[39m By\u001b[38;5;241m.\u001b[39mCSS_SELECTOR\n\u001b[0;32m    738\u001b[0m     value \u001b[38;5;241m=\u001b[39m \u001b[38;5;124mf\u001b[39m\u001b[38;5;124m'\u001b[39m\u001b[38;5;124m[name=\u001b[39m\u001b[38;5;124m\"\u001b[39m\u001b[38;5;132;01m{\u001b[39;00mvalue\u001b[38;5;132;01m}\u001b[39;00m\u001b[38;5;124m\"\u001b[39m\u001b[38;5;124m]\u001b[39m\u001b[38;5;124m'\u001b[39m\n\u001b[1;32m--> 740\u001b[0m \u001b[38;5;28;01mreturn\u001b[39;00m \u001b[38;5;28;43mself\u001b[39;49m\u001b[38;5;241;43m.\u001b[39;49m\u001b[43mexecute\u001b[49m\u001b[43m(\u001b[49m\u001b[43mCommand\u001b[49m\u001b[38;5;241;43m.\u001b[39;49m\u001b[43mFIND_ELEMENT\u001b[49m\u001b[43m,\u001b[49m\u001b[43m \u001b[49m\u001b[43m{\u001b[49m\u001b[38;5;124;43m\"\u001b[39;49m\u001b[38;5;124;43musing\u001b[39;49m\u001b[38;5;124;43m\"\u001b[39;49m\u001b[43m:\u001b[49m\u001b[43m \u001b[49m\u001b[43mby\u001b[49m\u001b[43m,\u001b[49m\u001b[43m \u001b[49m\u001b[38;5;124;43m\"\u001b[39;49m\u001b[38;5;124;43mvalue\u001b[39;49m\u001b[38;5;124;43m\"\u001b[39;49m\u001b[43m:\u001b[49m\u001b[43m \u001b[49m\u001b[43mvalue\u001b[49m\u001b[43m}\u001b[49m\u001b[43m)\u001b[49m[\u001b[38;5;124m\"\u001b[39m\u001b[38;5;124mvalue\u001b[39m\u001b[38;5;124m\"\u001b[39m]\n",
      "File \u001b[1;32mG:\\new\\lib\\site-packages\\selenium\\webdriver\\remote\\webdriver.py:346\u001b[0m, in \u001b[0;36mWebDriver.execute\u001b[1;34m(self, driver_command, params)\u001b[0m\n\u001b[0;32m    344\u001b[0m response \u001b[38;5;241m=\u001b[39m \u001b[38;5;28mself\u001b[39m\u001b[38;5;241m.\u001b[39mcommand_executor\u001b[38;5;241m.\u001b[39mexecute(driver_command, params)\n\u001b[0;32m    345\u001b[0m \u001b[38;5;28;01mif\u001b[39;00m response:\n\u001b[1;32m--> 346\u001b[0m     \u001b[38;5;28;43mself\u001b[39;49m\u001b[38;5;241;43m.\u001b[39;49m\u001b[43merror_handler\u001b[49m\u001b[38;5;241;43m.\u001b[39;49m\u001b[43mcheck_response\u001b[49m\u001b[43m(\u001b[49m\u001b[43mresponse\u001b[49m\u001b[43m)\u001b[49m\n\u001b[0;32m    347\u001b[0m     response[\u001b[38;5;124m\"\u001b[39m\u001b[38;5;124mvalue\u001b[39m\u001b[38;5;124m\"\u001b[39m] \u001b[38;5;241m=\u001b[39m \u001b[38;5;28mself\u001b[39m\u001b[38;5;241m.\u001b[39m_unwrap_value(response\u001b[38;5;241m.\u001b[39mget(\u001b[38;5;124m\"\u001b[39m\u001b[38;5;124mvalue\u001b[39m\u001b[38;5;124m\"\u001b[39m, \u001b[38;5;28;01mNone\u001b[39;00m))\n\u001b[0;32m    348\u001b[0m     \u001b[38;5;28;01mreturn\u001b[39;00m response\n",
      "File \u001b[1;32mG:\\new\\lib\\site-packages\\selenium\\webdriver\\remote\\errorhandler.py:245\u001b[0m, in \u001b[0;36mErrorHandler.check_response\u001b[1;34m(self, response)\u001b[0m\n\u001b[0;32m    243\u001b[0m         alert_text \u001b[38;5;241m=\u001b[39m value[\u001b[38;5;124m\"\u001b[39m\u001b[38;5;124malert\u001b[39m\u001b[38;5;124m\"\u001b[39m]\u001b[38;5;241m.\u001b[39mget(\u001b[38;5;124m\"\u001b[39m\u001b[38;5;124mtext\u001b[39m\u001b[38;5;124m\"\u001b[39m)\n\u001b[0;32m    244\u001b[0m     \u001b[38;5;28;01mraise\u001b[39;00m exception_class(message, screen, stacktrace, alert_text)  \u001b[38;5;66;03m# type: ignore[call-arg]  # mypy is not smart enough here\u001b[39;00m\n\u001b[1;32m--> 245\u001b[0m \u001b[38;5;28;01mraise\u001b[39;00m exception_class(message, screen, stacktrace)\n",
      "\u001b[1;31mNoSuchElementException\u001b[0m: Message: no such element: Unable to locate element: {\"method\":\"xpath\",\"selector\":\"//*[@class=\"_aabd _aa8k _aanf\"]/a\"}\n  (Session info: chrome=114.0.5735.248); For documentation on this error, please visit: https://www.selenium.dev/documentation/webdriver/troubleshooting/errors#no-such-element-exception\nStacktrace:\nBacktrace:\n\tGetHandleVerifier [0x0100A813+48355]\n\t(No symbol) [0x00F9C4B1]\n\t(No symbol) [0x00EA5358]\n\t(No symbol) [0x00ED09A5]\n\t(No symbol) [0x00ED0B3B]\n\t(No symbol) [0x00EFE232]\n\t(No symbol) [0x00EEA784]\n\t(No symbol) [0x00EFC922]\n\t(No symbol) [0x00EEA536]\n\t(No symbol) [0x00EC82DC]\n\t(No symbol) [0x00EC93DD]\n\tGetHandleVerifier [0x0126AABD+2539405]\n\tGetHandleVerifier [0x012AA78F+2800735]\n\tGetHandleVerifier [0x012A456C+2775612]\n\tGetHandleVerifier [0x010951E0+616112]\n\t(No symbol) [0x00FA5F8C]\n\t(No symbol) [0x00FA2328]\n\t(No symbol) [0x00FA240B]\n\t(No symbol) [0x00F94FF7]\n\tBaseThreadInitThunk [0x757F7D59+25]\n\tRtlInitializeExceptionChain [0x76F3B79B+107]\n\tRtlClearBits [0x76F3B71F+191]\n"
     ]
    }
   ],
   "source": []
  },
  {
   "cell_type": "code",
   "execution_count": null,
   "id": "ad93bea6",
   "metadata": {},
   "outputs": [],
   "source": []
  }
 ],
 "metadata": {
  "kernelspec": {
   "display_name": "Python 3 (ipykernel)",
   "language": "python",
   "name": "python3"
  },
  "language_info": {
   "codemirror_mode": {
    "name": "ipython",
    "version": 3
   },
   "file_extension": ".py",
   "mimetype": "text/x-python",
   "name": "python",
   "nbconvert_exporter": "python",
   "pygments_lexer": "ipython3",
   "version": "3.10.9"
  }
 },
 "nbformat": 4,
 "nbformat_minor": 5
}
