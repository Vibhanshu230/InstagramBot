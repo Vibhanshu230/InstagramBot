{
 "cells": [
  {
   "cell_type": "markdown",
   "id": "9a6db879",
   "metadata": {},
   "source": [
    "# Instabot-1 Project"
   ]
  },
  {
   "cell_type": "markdown",
   "id": "73c5d0bb",
   "metadata": {},
   "source": [
    "Your friend has opened a new Food Blogging handle on Instagram and wants to get famous. He wants to follow a lot of people so that he can get noticed quickly but it is a tedious task so he asks you to help him. As you have just learned automation using Selenium, you decided to help him by creating an Instagram Bot. You need to create different functions for each task."
   ]
  },
  {
   "cell_type": "code",
   "execution_count": 1,
   "id": "2ccbc410",
   "metadata": {},
   "outputs": [],
   "source": [
    "from selenium import webdriver\n",
    "from selenium.webdriver.support import expected_conditions as EC\n",
    "from selenium.webdriver.support.ui import WebDriverWait\n",
    "from selenium.webdriver.common.by import By\n",
    "from selenium.common.exceptions import TimeoutException\n",
    "from bs4 import BeautifulSoup\n",
    "import time"
   ]
  },
  {
   "cell_type": "code",
   "execution_count": 4,
   "id": "83926a99",
   "metadata": {},
   "outputs": [],
   "source": [
    "from selenium import webdriver\n",
    "from webdriver_manager.chrome import ChromeDriverManager\n",
    "driver=webdriver.Chrome()"
   ]
  },
  {
   "cell_type": "code",
   "execution_count": 5,
   "id": "bf081160",
   "metadata": {},
   "outputs": [],
   "source": [
    "#opening Instagram\n",
    "driver.get('https://www.instagram.com/')\n"
   ]
  },
  {
   "cell_type": "code",
   "execution_count": 14,
   "id": "22c8bca3",
   "metadata": {},
   "outputs": [],
   "source": [
    "# Saving username and password as local variable\n",
    "username='vibhanshubotke'\n",
    "password='vibha2003'"
   ]
  },
  {
   "cell_type": "code",
   "execution_count": 7,
   "id": "96c469cd",
   "metadata": {},
   "outputs": [],
   "source": [
    "# initialising wait object\n",
    "wait=WebDriverWait(driver,10)"
   ]
  },
  {
   "cell_type": "markdown",
   "id": "9917d7fd",
   "metadata": {},
   "source": [
    "##  1.Login to Instagram Handle"
   ]
  },
  {
   "cell_type": "markdown",
   "id": "2df170d7",
   "metadata": {},
   "source": [
    "Login to your Instagram Handle.\n",
    "Submit with sample username and password"
   ]
  },
  {
   "cell_type": "code",
   "execution_count": 11,
   "id": "3d0f3f01",
   "metadata": {},
   "outputs": [],
   "source": [
    "def login(username,password):\n",
    "    try:\n",
    "#     Finding username textbox and sending username.\n",
    "        user_id=wait.until(EC.presence_of_element_located((By.NAME,'username')))\n",
    "        user_id.send_keys(username)\n",
    "#     Finding password textbox and sending password.\n",
    "        pwd=driver.find_element(By.NAME,'password')\n",
    "        pwd.send_keys(password)\n",
    "#     Finding log in button.\n",
    "        btn=wait.until(EC.presence_of_element_located((By.XPATH,'//*[@id=\"loginForm\"]/div[1]/div[3]/button/div')))\n",
    "        btn.click()\n",
    "    except TimeoutException :\n",
    "        print (\"lOGIN FAILED\")\n",
    "    \n",
    " "
   ]
  },
  {
   "cell_type": "code",
   "execution_count": 15,
   "id": "b4e86eb1",
   "metadata": {},
   "outputs": [],
   "source": [
    "login(username,password)"
   ]
  },
  {
   "cell_type": "markdown",
   "id": "e0d872a0",
   "metadata": {},
   "source": [
    "##  2.Search 'food' and extract names of all handles"
   ]
  },
  {
   "cell_type": "markdown",
   "id": "32959b07",
   "metadata": {},
   "source": [
    "Type for “food” in search bar and print all the names of the Instagram Handles that are displayed in list after typing “food”\n",
    "Note : Make sure to avoid printing hashtags"
   ]
  },
  {
   "cell_type": "code",
   "execution_count": 16,
   "id": "bd2f4001",
   "metadata": {},
   "outputs": [
    {
     "ename": "TimeoutException",
     "evalue": "Message: \nStacktrace:\nBacktrace:\n\tGetHandleVerifier [0x0100A813+48355]\n\t(No symbol) [0x00F9C4B1]\n\t(No symbol) [0x00EA5358]\n\t(No symbol) [0x00ED09A5]\n\t(No symbol) [0x00ED0B3B]\n\t(No symbol) [0x00EFE232]\n\t(No symbol) [0x00EEA784]\n\t(No symbol) [0x00EFC922]\n\t(No symbol) [0x00EEA536]\n\t(No symbol) [0x00EC82DC]\n\t(No symbol) [0x00EC93DD]\n\tGetHandleVerifier [0x0126AABD+2539405]\n\tGetHandleVerifier [0x012AA78F+2800735]\n\tGetHandleVerifier [0x012A456C+2775612]\n\tGetHandleVerifier [0x010951E0+616112]\n\t(No symbol) [0x00FA5F8C]\n\t(No symbol) [0x00FA2328]\n\t(No symbol) [0x00FA240B]\n\t(No symbol) [0x00F94FF7]\n\tBaseThreadInitThunk [0x757F7D59+25]\n\tRtlInitializeExceptionChain [0x76F3B79B+107]\n\tRtlClearBits [0x76F3B71F+191]\n",
     "output_type": "error",
     "traceback": [
      "\u001b[1;31m---------------------------------------------------------------------------\u001b[0m",
      "\u001b[1;31mTimeoutException\u001b[0m                          Traceback (most recent call last)",
      "Cell \u001b[1;32mIn[16], line 11\u001b[0m\n\u001b[0;32m      8\u001b[0m searchbox\u001b[38;5;241m.\u001b[39msend_keys(keyword)\n\u001b[0;32m     10\u001b[0m \u001b[38;5;66;03m#         waiting till all searched is located\u001b[39;00m\n\u001b[1;32m---> 11\u001b[0m \u001b[43mwait\u001b[49m\u001b[38;5;241;43m.\u001b[39;49m\u001b[43muntil\u001b[49m\u001b[43m(\u001b[49m\u001b[43mEC\u001b[49m\u001b[38;5;241;43m.\u001b[39;49m\u001b[43mpresence_of_element_located\u001b[49m\u001b[43m(\u001b[49m\u001b[43m(\u001b[49m\u001b[43mBy\u001b[49m\u001b[38;5;241;43m.\u001b[39;49m\u001b[43mCLASS_NAME\u001b[49m\u001b[43m,\u001b[49m\u001b[38;5;124;43m'\u001b[39;49m\u001b[38;5;124;43mx9f619 x78zum5 xdt5ytf x12dtdjy x6ikm8r x1odjw0f x4uap5 x18d9i69 xkhd6sd xh8yej3 x1iyjqo2 xocp1fn\u001b[39;49m\u001b[38;5;124;43m'\u001b[39;49m\u001b[43m)\u001b[49m\u001b[43m)\u001b[49m\u001b[43m)\u001b[49m\n\u001b[0;32m     12\u001b[0m \u001b[38;5;66;03m#         Extracting instagram handles\u001b[39;00m\n\u001b[0;32m     13\u001b[0m handlenames\u001b[38;5;241m=\u001b[39mdriver\u001b[38;5;241m.\u001b[39mfind_elements(By\u001b[38;5;241m.\u001b[39mXPATH,\u001b[38;5;124m'\u001b[39m\u001b[38;5;124m//*[@class=\u001b[39m\u001b[38;5;124m\"\u001b[39m\u001b[38;5;124mx9f619 x78zum5 xdt5ytf x12dtdjy x6ikm8r x1odjw0f x4uap5 x18d9i69 xkhd6sd xh8yej3 x1iyjqo2 xocp1fn\u001b[39m\u001b[38;5;124m\"\u001b[39m\u001b[38;5;124m]/div/a/div/div/div/div[2]/div/div/span[1]/span/div/span\u001b[39m\u001b[38;5;124m'\u001b[39m)\n",
      "File \u001b[1;32mG:\\new\\lib\\site-packages\\selenium\\webdriver\\support\\wait.py:95\u001b[0m, in \u001b[0;36mWebDriverWait.until\u001b[1;34m(self, method, message)\u001b[0m\n\u001b[0;32m     93\u001b[0m     \u001b[38;5;28;01mif\u001b[39;00m time\u001b[38;5;241m.\u001b[39mmonotonic() \u001b[38;5;241m>\u001b[39m end_time:\n\u001b[0;32m     94\u001b[0m         \u001b[38;5;28;01mbreak\u001b[39;00m\n\u001b[1;32m---> 95\u001b[0m \u001b[38;5;28;01mraise\u001b[39;00m TimeoutException(message, screen, stacktrace)\n",
      "\u001b[1;31mTimeoutException\u001b[0m: Message: \nStacktrace:\nBacktrace:\n\tGetHandleVerifier [0x0100A813+48355]\n\t(No symbol) [0x00F9C4B1]\n\t(No symbol) [0x00EA5358]\n\t(No symbol) [0x00ED09A5]\n\t(No symbol) [0x00ED0B3B]\n\t(No symbol) [0x00EFE232]\n\t(No symbol) [0x00EEA784]\n\t(No symbol) [0x00EFC922]\n\t(No symbol) [0x00EEA536]\n\t(No symbol) [0x00EC82DC]\n\t(No symbol) [0x00EC93DD]\n\tGetHandleVerifier [0x0126AABD+2539405]\n\tGetHandleVerifier [0x012AA78F+2800735]\n\tGetHandleVerifier [0x012A456C+2775612]\n\tGetHandleVerifier [0x010951E0+616112]\n\t(No symbol) [0x00FA5F8C]\n\t(No symbol) [0x00FA2328]\n\t(No symbol) [0x00FA240B]\n\t(No symbol) [0x00F94FF7]\n\tBaseThreadInitThunk [0x757F7D59+25]\n\tRtlInitializeExceptionChain [0x76F3B79B+107]\n\tRtlClearBits [0x76F3B71F+191]\n"
     ]
    }
   ],
   "source": [
    "\n",
    "#         locating search button and clicking button\n",
    "search_btn=wait.until(EC.presence_of_element_located((By.XPATH,'//*[@class=\"x1iyjqo2 xh8yej3\"]/div[2]/span/div/a')))\n",
    "search_btn.click()\n",
    "#         Waiting till presence of search bar and locating search text box \n",
    "searchbox=wait.until(EC.element_to_be_clickable((By.XPATH, '//input[@placeholder=\"Search\"]')))\n",
    "searchbox.clear()\n",
    "keyword = 'food'\n",
    "searchbox.send_keys(keyword)\n",
    "\n",
    "#         waiting till all searched is located\n",
    "wait.until(EC.presence_of_element_located((By.CLASS_NAME,'x9f619 x78zum5 xdt5ytf x12dtdjy x6ikm8r x1odjw0f x4uap5 x18d9i69 xkhd6sd xh8yej3 x1iyjqo2 xocp1fn')))\n",
    "#         Extracting instagram handles\n",
    "handlenames=driver.find_elements(By.XPATH,'//*[@class=\"x9f619 x78zum5 xdt5ytf x12dtdjy x6ikm8r x1odjw0f x4uap5 x18d9i69 xkhd6sd xh8yej3 x1iyjqo2 xocp1fn\"]/div/a/div/div/div/div[2]/div/div/span[1]/span/div/span')\n",
    "for i in handlenames:\n",
    "    k=i.text\n",
    "    if k[0]!='#':\n",
    "        print(k)\n"
   ]
  },
  {
   "cell_type": "markdown",
   "id": "00ddcde1",
   "metadata": {},
   "source": [
    "## 3.Searching and opening profile-\"So Delhi\""
   ]
  },
  {
   "cell_type": "markdown",
   "id": "ed0535d1",
   "metadata": {},
   "source": [
    "Searching and Opening a profile using\n",
    "Open profile of “So Delhi”"
   ]
  },
  {
   "cell_type": "code",
   "execution_count": 17,
   "id": "4545fb63",
   "metadata": {},
   "outputs": [],
   "source": [
    "def search(s):\n",
    "#         locating search button and clicking button\n",
    "    search_btn=wait.until(EC.presence_of_element_located((By.XPATH,'//*[@class=\"x1iyjqo2 xh8yej3\"]/div[2]/span/div/a')))\n",
    "    search_btn.click()\n",
    "#         Waiting till presence of search bar and locating search text box \n",
    "    searchbox=wait.until(EC.element_to_be_clickable((By.XPATH, '//input[@placeholder=\"Search\"]')))\n",
    "    searchbox.clear()\n",
    "    keyword = s\n",
    "    searchbox.send_keys(keyword)\n",
    "# Opening profile \n",
    "    profile_btn=wait.until(EC.presence_of_element_located((By.XPATH,'//*[@class=\"x9f619 x78zum5 xdt5ytf x12dtdjy x6ikm8r x1odjw0f x4uap5 x18d9i69 xkhd6sd xh8yej3 x1iyjqo2 xocp1fn\"]/div/a')))\n",
    "    profile_btn.click()"
   ]
  },
  {
   "cell_type": "code",
   "execution_count": 18,
   "id": "99b8563a",
   "metadata": {},
   "outputs": [],
   "source": [
    "search('So Delhi')"
   ]
  },
  {
   "cell_type": "markdown",
   "id": "50c5c31a",
   "metadata": {},
   "source": [
    "## 4.Follow/Unfollow given handle"
   ]
  },
  {
   "cell_type": "markdown",
   "id": "4bdc646f",
   "metadata": {},
   "source": [
    "Follow/Unfollow given handle\n",
    "\n",
    "1.Open the Instagram Handle of “So Delhi”\n",
    "\n",
    "2.Start following it. Print a message if you are already following\n",
    "\n",
    "3.After following, unfollow the instagram handle. Print a message if you have already unfollowed."
   ]
  },
  {
   "cell_type": "code",
   "execution_count": 177,
   "id": "95645869",
   "metadata": {},
   "outputs": [],
   "source": [
    "# open the handle of So Delhi by above method\n",
    "# locate follow button\n",
    "def follow():\n",
    "    try :\n",
    "        #locating follow button\n",
    "        btn=wait.until(EC.presence_of_element_located((By.XPATH,'//*[@class=\"x9f619 xjbqb8w x78zum5 x168nmei x13lgxp2 x5pf9jr xo71vjh x1i64zmx x1n2onr6 x1plvlek xryxfnj x1iyjqo2 x2lwn1j xeuugli xdt5ytf xqjyukv x1qjc9v5 x1oa3qoh x1nhvcw1\"]/button')))\n",
    "        #checking for text\n",
    "        if btn.text == 'Follow' : \n",
    "            btn.click()\n",
    "            time.sleep(3)\n",
    "        \n",
    "        else : \n",
    "            print('Already Following')\n",
    "\n",
    "    except TimeoutException :\n",
    "        print(\"Something Went Wrong!\")\n"
   ]
  },
  {
   "cell_type": "code",
   "execution_count": 174,
   "id": "a74964f8",
   "metadata": {},
   "outputs": [],
   "source": [
    "def unfollow():\n",
    "    try :\n",
    "#         Locating follow button\n",
    "        followbtn=wait.until(EC.presence_of_element_located((By.XPATH,'//*[@class=\"x9f619 xjbqb8w x78zum5 x168nmei x13lgxp2 x5pf9jr xo71vjh x1i64zmx x1n2onr6 x1plvlek xryxfnj x1iyjqo2 x2lwn1j xeuugli xdt5ytf xqjyukv x1qjc9v5 x1oa3qoh x1nhvcw1\"]/button')))\n",
    "        #checking for text\n",
    "        if followbtn.text == 'Follow' : \n",
    "            print(\"Already Unfollowed\")\n",
    "            time.sleep(3)\n",
    "        \n",
    "        \n",
    "        else:\n",
    "            followbtn.click()\n",
    "#             Locating unfollow button and clicking it\n",
    "            unfollowbtn = wait.until(EC.presence_of_element_located((By.XPATH,'//*[@class=\"x9f619 xjbqb8w x78zum5 x168nmei x13lgxp2 x5pf9jr xo71vjh x1n2onr6 xw2csxc x1odjw0f x1iyjqo2 x2lwn1j xeuugli xdt5ytf xqjyukv x1qjc9v5 x1oa3qoh x1nhvcw1\"]/div[8]')))\n",
    "            unfollowbtn.click()\n",
    "        \n",
    "    except TimeoutException :\n",
    "        print(\"Something Went Wrong!\")\n",
    "    "
   ]
  },
  {
   "cell_type": "code",
   "execution_count": 178,
   "id": "6cb55a4b",
   "metadata": {},
   "outputs": [],
   "source": [
    "# Calling follow function to follow So Delhi handle\n",
    "follow()"
   ]
  },
  {
   "cell_type": "code",
   "execution_count": 179,
   "id": "df67e36e",
   "metadata": {},
   "outputs": [],
   "source": [
    "# Calling unfollow function to unfollow So Delhi handle\n",
    "unfollow()"
   ]
  },
  {
   "cell_type": "code",
   "execution_count": 180,
   "id": "31388e39",
   "metadata": {},
   "outputs": [
    {
     "name": "stdout",
     "output_type": "stream",
     "text": [
      "Already Unfollowed\n"
     ]
    }
   ],
   "source": [
    "# Checking condition when site already unfollowed\n",
    "unfollow()"
   ]
  },
  {
   "cell_type": "code",
   "execution_count": 181,
   "id": "920d7b11",
   "metadata": {},
   "outputs": [
    {
     "name": "stdout",
     "output_type": "stream",
     "text": [
      "Already Following\n"
     ]
    }
   ],
   "source": [
    "# Checking condition when site already followed\n",
    "follow()"
   ]
  },
  {
   "cell_type": "markdown",
   "id": "7586ec07",
   "metadata": {},
   "source": [
    "## 5.Like/Unlike Post"
   ]
  },
  {
   "cell_type": "markdown",
   "id": "470e0f22",
   "metadata": {},
   "source": [
    "Like/Unlike posts\n",
    "\n",
    "1.Liking the top 30 posts of the ‘dilsefoodie'. Print message if you have already liked it.\n",
    "\n",
    "2.Unliking the top 30 posts of the ‘dilsefoodie’. Print message if you have already unliked it."
   ]
  },
  {
   "cell_type": "code",
   "execution_count": 23,
   "id": "b43468c9",
   "metadata": {},
   "outputs": [],
   "source": [
    "def Like():\n",
    "    try :\n",
    "        #scrolling for locating post\n",
    "        driver.execute_script('window.scrollTo(0, 6000);')\n",
    "        time.sleep(3)\n",
    "        driver.execute_script('window.scrollTo(0, -6000);')\n",
    "        time.sleep(3)\n",
    "#         Locating post\n",
    "        post=driver.find_elements(By.XPATH,'//*[@class=\"_aabd _aa8k _aanf\"]/a')\n",
    "#     Iterating over first 30 posts\n",
    "        for i in range(30):\n",
    "            post[i].click()\n",
    "            time.sleep(2)\n",
    "#     locating like button and checking condition if it is already liked or not\n",
    "            like = wait.until(EC.presence_of_element_located((By.XPATH,'//*[@class=\"_aamw\"]/div')))\n",
    "            st = BeautifulSoup(like.get_attribute('innerHTML'),\"html.parser\").svg['aria-label']\n",
    "            if st == 'Like' :\n",
    "#                 If not liked yet we click like button\n",
    "                like.click()\n",
    "                time.sleep(2)\n",
    "            else :\n",
    "                print('You have already LIKED Post Number :', i+1)\n",
    "                time.sleep(2)\n",
    "#         CLosing post\n",
    "            driver.find_element(By.XPATH,'//*[@class=\"x160vmok x10l6tqk x1eu8d0j x1vjfegm\"]/div').click()\n",
    "            time.sleep(2)\n",
    "    except TimeoutException :\n",
    "        print(\"Something Went Wrong!\")"
   ]
  },
  {
   "cell_type": "code",
   "execution_count": 30,
   "id": "b07004fb",
   "metadata": {},
   "outputs": [],
   "source": [
    "def Unlike():\n",
    "    try :\n",
    "        #scrolling for locating post\n",
    "        driver.execute_script('window.scrollTo(0, 6000);')\n",
    "        time.sleep(3)\n",
    "        driver.execute_script('window.scrollTo(0, -6000);')\n",
    "        time.sleep(3)\n",
    "#         Locating post \n",
    "        post=driver.find_elements(By.XPATH,'//*[@class=\"_aabd _aa8k _aanf\"]/a')\n",
    "        for i in range(30):\n",
    "            post[i].click()\n",
    "            time.sleep(2)\n",
    "#     locating like button and checking condition if it is already liked or not\n",
    "            like = wait.until(EC.presence_of_element_located((By.XPATH,'//*[@class=\"_aamw\"]/div')))\n",
    "            st = BeautifulSoup(like.get_attribute('innerHTML'),\"html.parser\").svg['aria-label']\n",
    "            if st == 'Unlike' :\n",
    "#                 If liked click like button again to unlike it\n",
    "                like.click()\n",
    "                time.sleep(2)\n",
    "            else :\n",
    "                print('You have already UNLIKED Post Number :', i+1)\n",
    "                time.sleep(2)\n",
    "#         CLosing post\n",
    "            driver.find_element(By.XPATH,'//*[@class=\"x160vmok x10l6tqk x1eu8d0j x1vjfegm\"]/div').click()\n",
    "            time.sleep(2)\n",
    "    except TimeoutException :\n",
    "        print(\"Something Went Wrong!\")\n",
    "    "
   ]
  },
  {
   "cell_type": "code",
   "execution_count": 28,
   "id": "93f440d4",
   "metadata": {},
   "outputs": [
    {
     "ename": "IndexError",
     "evalue": "list index out of range",
     "output_type": "error",
     "traceback": [
      "\u001b[1;31m---------------------------------------------------------------------------\u001b[0m",
      "\u001b[1;31mIndexError\u001b[0m                                Traceback (most recent call last)",
      "Cell \u001b[1;32mIn[28], line 2\u001b[0m\n\u001b[0;32m      1\u001b[0m \u001b[38;5;66;03m# Calling Like function to like first 30 posts with post 3 already liked to check exception\u001b[39;00m\n\u001b[1;32m----> 2\u001b[0m \u001b[43mLike\u001b[49m\u001b[43m(\u001b[49m\u001b[43m)\u001b[49m\n",
      "Cell \u001b[1;32mIn[23], line 12\u001b[0m, in \u001b[0;36mLike\u001b[1;34m()\u001b[0m\n\u001b[0;32m     10\u001b[0m \u001b[38;5;66;03m#     Iterating over first 30 posts\u001b[39;00m\n\u001b[0;32m     11\u001b[0m         \u001b[38;5;28;01mfor\u001b[39;00m i \u001b[38;5;129;01min\u001b[39;00m \u001b[38;5;28mrange\u001b[39m(\u001b[38;5;241m30\u001b[39m):\n\u001b[1;32m---> 12\u001b[0m             \u001b[43mpost\u001b[49m\u001b[43m[\u001b[49m\u001b[43mi\u001b[49m\u001b[43m]\u001b[49m\u001b[38;5;241m.\u001b[39mclick()\n\u001b[0;32m     13\u001b[0m             time\u001b[38;5;241m.\u001b[39msleep(\u001b[38;5;241m2\u001b[39m)\n\u001b[0;32m     14\u001b[0m \u001b[38;5;66;03m#     locating like button and checking condition if it is already liked or not\u001b[39;00m\n",
      "\u001b[1;31mIndexError\u001b[0m: list index out of range"
     ]
    }
   ],
   "source": [
    "# Calling Like function to like first 30 posts with post 3 already liked to check exception\n",
    "Like()"
   ]
  },
  {
   "cell_type": "code",
   "execution_count": 29,
   "id": "69bbb873",
   "metadata": {},
   "outputs": [
    {
     "ename": "IndexError",
     "evalue": "list index out of range",
     "output_type": "error",
     "traceback": [
      "\u001b[1;31m---------------------------------------------------------------------------\u001b[0m",
      "\u001b[1;31mIndexError\u001b[0m                                Traceback (most recent call last)",
      "Cell \u001b[1;32mIn[29], line 2\u001b[0m\n\u001b[0;32m      1\u001b[0m \u001b[38;5;66;03m#Calling Unlike function to unlike first 30 posts with post 3 already unliked to check exception\u001b[39;00m\n\u001b[1;32m----> 2\u001b[0m \u001b[43mUnlike\u001b[49m\u001b[43m(\u001b[49m\u001b[43m)\u001b[49m\n",
      "Cell \u001b[1;32mIn[27], line 11\u001b[0m, in \u001b[0;36mUnlike\u001b[1;34m()\u001b[0m\n\u001b[0;32m      9\u001b[0m         post\u001b[38;5;241m=\u001b[39mdriver\u001b[38;5;241m.\u001b[39mfind_elements(By\u001b[38;5;241m.\u001b[39mXPATH,\u001b[38;5;124m'\u001b[39m\u001b[38;5;124m//*[@class=\u001b[39m\u001b[38;5;124m\"\u001b[39m\u001b[38;5;124m_aabd _aa8k _aanf\u001b[39m\u001b[38;5;124m\"\u001b[39m\u001b[38;5;124m]/a\u001b[39m\u001b[38;5;124m'\u001b[39m)\n\u001b[0;32m     10\u001b[0m         \u001b[38;5;28;01mfor\u001b[39;00m i \u001b[38;5;129;01min\u001b[39;00m \u001b[38;5;28mrange\u001b[39m(\u001b[38;5;241m3\u001b[39m):\n\u001b[1;32m---> 11\u001b[0m             \u001b[43mpost\u001b[49m\u001b[43m[\u001b[49m\u001b[43mi\u001b[49m\u001b[43m]\u001b[49m\u001b[38;5;241m.\u001b[39mclick()\n\u001b[0;32m     12\u001b[0m             time\u001b[38;5;241m.\u001b[39msleep(\u001b[38;5;241m2\u001b[39m)\n\u001b[0;32m     13\u001b[0m \u001b[38;5;66;03m#     locating like button and checking condition if it is already liked or not\u001b[39;00m\n",
      "\u001b[1;31mIndexError\u001b[0m: list index out of range"
     ]
    }
   ],
   "source": [
    "#Calling Unlike function to unlike first 30 posts with post 3 already unliked to check exception\n",
    "Unlike()"
   ]
  },
  {
   "cell_type": "markdown",
   "id": "a0edabc4",
   "metadata": {},
   "source": [
    "## 6.Extract List of Followers"
   ]
  },
  {
   "cell_type": "markdown",
   "id": "bc5719a3",
   "metadata": {},
   "source": [
    "Extract list of followers\n",
    "\n",
    "1.Extract the usernames of the first 500 followers of ‘foodtalkindia’ and ‘sodelhi’.\n",
    "\n",
    "2.Now print all the followers of “foodtalkindia” that you are following but those who don’t follow you."
   ]
  },
  {
   "cell_type": "code",
   "execution_count": 142,
   "id": "a0318b5a",
   "metadata": {},
   "outputs": [],
   "source": [
    "def getFollowers():\n",
    "    try:\n",
    "#         Locating the followers button and clicking it\n",
    "        followerBtn = wait.until(EC.presence_of_element_located((By.XPATH,'//*[@class=\"x78zum5 x1q0g3np xieb3on\"]/li[2]/a')))\n",
    "        followerBtn.click()\n",
    "        time.sleep(3)\n",
    "        frame=driver.find_element(By.CLASS_NAME,'_aano')\n",
    "#         Locating all 500 handles before extracting names by using scroll function\n",
    "        for i in range(50):\n",
    "            time.sleep(1)\n",
    "            driver.execute_script(\"arguments[0].scrollTop=arguments[0].scrollHeight\",frame)\n",
    "#             Extracting names of followers\n",
    "        names=driver.find_elements(By.XPATH,'//*[@class=\"_aacl _aaco _aacw _aacx _aad7 _aade\"]/div')\n",
    "#         Printing first 500 followers\n",
    "        for i in names[:500]:\n",
    "            k=i.text\n",
    "            print(k)\n",
    "#             Closing the followers dialog box\n",
    "        driver.find_element(By.CLASS_NAME,'_abl-').click()  \n",
    "    except TimeoutException :\n",
    "        print(\"Something Went Wrong!\")\n",
    "        "
   ]
  },
  {
   "cell_type": "markdown",
   "id": "eb30c3f0",
   "metadata": {},
   "source": [
    "### Extracting followers of 'foodtalkindia' and 'sodelhi'"
   ]
  },
  {
   "cell_type": "code",
   "execution_count": 148,
   "id": "d2cd605c",
   "metadata": {},
   "outputs": [
    {
     "name": "stdout",
     "output_type": "stream",
     "text": [
      "arunimita\n",
      "hibamirza22\n",
      "apitxts\n",
      "arnab_nanda\n",
      "shd.fancy_dosa_\n",
      "pragyanpatra_\n",
      "sakhi.talwar\n",
      "adiiination\n",
      "its_mussu_mx\n",
      "being_rsh\n",
      "manish_sharma_333\n",
      "riyachandwani19\n",
      "aman_____khan_____096\n",
      "gaurav_joshi1999\n",
      "gauravpuri79\n",
      "__soulful_music___\n",
      "logo_branding.india\n",
      "nilesh_satav\n",
      "yaxadaajsheth\n",
      "ashmit3961\n",
      "suraj7263\n",
      "pkmsalu\n",
      "ar_siddhartha_vidro\n",
      "vicky.9832\n",
      "watzxxup\n",
      "azizul.hok.18041\n",
      "curvaceous.women\n",
      "rusty_bucket.24\n",
      "call_me_kc_gadu\n",
      "kunal.aggarwal27\n",
      "hungeerrworks\n",
      "xx_nikki_dezi444\n",
      "amodhroy02\n",
      "hasrat_qaur\n",
      "siddhi.a.kulkarni\n",
      "official_joyaldsouza\n",
      "_hridayy\n",
      "channdaan\n",
      "gurbani_anand\n",
      "sliho_g\n",
      "kkarthik124\n",
      "chahat_1107\n",
      "shivendratandon\n",
      "ssky_alcoholicartist\n",
      "chappylovestoeat\n",
      "harshita_shugani\n",
      "sanoj_munkhiya_651\n",
      "arjunagadi\n",
      "akib_malik_2199\n"
     ]
    }
   ],
   "source": [
    "search('foodtalkindia')\n",
    "getFollowers()\n",
    "# Site uses security feature that limits users to see only first 50 handles"
   ]
  },
  {
   "cell_type": "code",
   "execution_count": 144,
   "id": "3b12f8e6",
   "metadata": {},
   "outputs": [
    {
     "name": "stdout",
     "output_type": "stream",
     "text": [
      "sadaf_aqubal\n",
      "bharattaneja123\n",
      "evilsachingupta\n",
      "deepanshuuu_sankla\n",
      "ishikajain._25\n",
      "barbin_nawaz\n",
      "ootd_thrift\n",
      "riyaa_a.03\n",
      "meticulousinmadness\n",
      "chauhannikita91\n",
      "aarshiya_kohli\n",
      "berianamika\n",
      "yash__vij\n",
      "rinksahni\n",
      "vijaychouhan06\n",
      "i_am.alivee\n",
      "gopalvaidya_67\n",
      "negimegha526\n",
      "akhil_dhar\n",
      "the_rajattandon7\n",
      "anuchoudhary2090\n",
      "tanu90\n",
      "saumyash.snehal\n",
      "yoouu_suff\n",
      "divya_gulati_080689\n",
      "aastha000\n",
      "_harshii02\n",
      "pooja.naveen.khanna\n",
      "just_vaishnav_\n",
      "supriyash_2008\n",
      "sandeepmac23\n",
      "aashubehra\n",
      "harpreetbhambri13\n",
      "hitesh.sharma_22\n",
      "sreyasee_nath11\n",
      "anel_on_the_road\n",
      "addyyyaa\n",
      "toetooee\n",
      "dollie_awomi\n",
      "shivamkrbhardwaj\n",
      "precious_._prince\n",
      "pariparmod\n",
      "nidhi_mehta_kapoor\n",
      "dimp821\n",
      "faizi.cse\n",
      "__vanshika.04\n",
      "garuda.kanthi\n",
      "laxmi_uniyal_22\n",
      "_prateekvohra\n",
      "sharanpriyanka\n",
      "ting_tong_ding_dongg\n",
      "ahiseema\n",
      "shravyaa_nayak_\n",
      "anuguyogeshwerreddy\n",
      "shwetasmalik\n",
      "rahulrhythm99\n",
      "thefoodagram_\n",
      "rahul5744rahul\n",
      "lakshitasuteri\n",
      "bedifancika\n",
      "aparnawattal\n",
      "dr.priyankachaudhary5795\n",
      "bababindass9\n",
      "perfectionistprabho\n",
      "sekhawat505\n",
      "jaskirat__1\n",
      "_itz_mhupe_\n",
      "anshikaaagoel\n",
      "taimoor__choudhary\n",
      "deepak_dc7\n",
      "akashaj19\n",
      "arjun_verma28\n",
      "thatlamewriter\n",
      "1barun1\n",
      "sroja9702\n",
      "dismarried\n",
      "kartikk02._\n",
      "la_teeju\n",
      "curry_club_2023\n",
      "sonali_sweta\n",
      "yashi_gupta39901\n",
      "my_quixotic_life\n",
      "vineetas47\n",
      "nehchal.singh\n",
      "rajatbhardwaj_6\n",
      "_m.a.a.n.v.i_\n",
      "ranjanarathour\n",
      "idebasmitamohanty\n",
      "ronitthareja\n",
      "preet.kr_04\n",
      "who_janithakur\n",
      "__naruka__\n",
      "milan2670\n",
      "sshrutigoel_876\n",
      "vivek.vibes\n",
      "iamkunalgrove\n",
      "gknowledgek\n",
      "aditiagnihotri27.aa\n",
      "abdulrehman__007\n",
      "jensiyaaaa\n",
      "only_vikkie\n",
      "drswatipriya_\n",
      "_rajaprasadgond\n",
      "boseayan\n",
      "vaibhavgupta_7385\n",
      "muskaankaurgujral\n",
      "nis__014\n",
      "gargshivam1111\n",
      "rastogi4966\n",
      "anupkumar200787\n",
      "rohiniphalswal\n",
      "vadinii\n",
      "khushiiaroraaa\n",
      "madans0306\n",
      "efham.khan\n",
      "salonisubhra\n",
      "_bansalprachu\n",
      "akshatbishtt\n",
      "soroutnikesh96\n",
      "abhishektejan\n",
      "the_charu_kapoor\n",
      "nikunj__aka__nick_leister\n",
      "kuldeepdixit79\n",
      "jyotichaudhary1960\n",
      "the_s.kumar\n",
      "ni_ni_nitika\n",
      "mritunjay_2818\n",
      "ekta_singh96\n",
      "luky.verma714\n",
      "muhammad.saif__\n",
      "1919_nawaz\n",
      "neha_ranwa\n",
      "gsquare72\n",
      "_manu2618\n",
      "buy_property_in_delhi_ncr\n",
      "gurpreetkaur4921\n",
      "rk_gogwan\n",
      "prachipawar0407tf\n",
      "_.meenakshi_rana._\n",
      "shreenikastyleofficial\n",
      "sukhpreet1730\n",
      "ansh_6232\n",
      "rohitxsingal\n",
      "sonia._1283\n",
      "abhinav.srivastava.123829\n",
      "nehassharma643\n",
      "nig_akanksha\n",
      "sonu._.198\n",
      "roshni.bharadwaj._\n",
      "iam_k.ahmad\n",
      "jyotsna_tutu\n",
      "crazydzine\n",
      "the_moving_pixel\n",
      "sinha3098\n",
      "_kusumyadav\n",
      "datsme.divya\n",
      "aashneesethii\n",
      "aishwaryakachhal\n",
      "itssbl12\n",
      "sheeza_irshad\n",
      "meghauniyal09\n",
      "itsadarsh145\n",
      "raadhaa_30\n",
      "_madhumakhi\n",
      "vishakha_pundir\n",
      "thepk_007\n",
      "rakhisodhi\n",
      "sakshipandey_16\n",
      "iremainrahul\n",
      "dnagpal17\n",
      "a.anu.anand5\n",
      "khushikat\n",
      "gurjassingh22\n",
      "rudrakshi141\n",
      "sfjg7.48\n",
      "yprwchi\n",
      "prisha_._\n",
      "atultiwariee\n",
      "brijmehta07\n",
      "funtimewithjyoti\n",
      "kaushal.aggarwl\n",
      "supriya5691\n",
      "tushar10000\n",
      "camm11.11\n",
      "srishti.badal\n",
      "deepali.mehta\n",
      "pragatitsuri\n",
      "snehachitlangia\n",
      "shaileshbluedoct\n",
      "rutu_shirish26\n",
      "_.sachinrajput._\n",
      "beauty_butterfly629\n",
      "dr.sahiba\n",
      "ajeetyadav75469\n",
      "btw_its.hansika\n",
      "vivek.jindal\n",
      "peterkilo1988\n",
      "yash_jindal27\n",
      "maddyminnee\n",
      "_arpitgulati\n",
      "05amitbhati15\n",
      "harshiv.seth16\n"
     ]
    }
   ],
   "source": [
    "search('sodelhi')\n",
    "getFollowers()"
   ]
  },
  {
   "cell_type": "code",
   "execution_count": 170,
   "id": "bd71a82e",
   "metadata": {},
   "outputs": [],
   "source": [
    "#         Extracting names of profile who follow foodtalkindia whom we follow\n",
    "def Following():\n",
    "    try:\n",
    "#         Locating follower button and clicking it\n",
    "        followerBtn = wait.until(EC.presence_of_element_located((By.XPATH,'//*[@class=\"x78zum5 x1q0g3np xieb3on\"]/li[2]/a')))\n",
    "        followerBtn.click()\n",
    "        time.sleep(3) \n",
    "        followernames=[]\n",
    "#             Extracting names of followers\n",
    "        followerhandles=driver.find_elements(By.XPATH,'//*[@class=\"_aacl _aaco _aacw _aacx _aad7 _aade\"]/div')\n",
    "        for i in followerhandles:\n",
    "            followernames.append(i.text)\n",
    "        \n",
    "        following_names=[]\n",
    "#         Extracting if we follow the profile or not\n",
    "        followinghandles=driver.find_elements(By.XPATH,'//*[@class=\"_aacl _aaco _aacw _aad6 _aade\"]')\n",
    "        count=-1\n",
    "#         Iterating to find which handles we follow\n",
    "        for i in followinghandles:\n",
    "            if i.text=='Following':\n",
    "\n",
    "                handlename=followernames[count]\n",
    "                following_names.append(handlename)\n",
    "            count=count+1\n",
    "#             Closing the follower dialog box\n",
    "        driver.find_element(By.CLASS_NAME,'_abl-').click()   \n",
    "        return following_names\n",
    "    except TimeoutException :\n",
    "        print(\"Something Went Wrong!\")   \n",
    "        \n",
    "    "
   ]
  },
  {
   "cell_type": "code",
   "execution_count": 83,
   "id": "379a7aaf",
   "metadata": {},
   "outputs": [
    {
     "data": {
      "text/plain": [
       "['logo_branding.india', 'hungeerrworks']"
      ]
     },
     "execution_count": 83,
     "metadata": {},
     "output_type": "execute_result"
    }
   ],
   "source": [
    "following_names=Following()\n",
    "following_names"
   ]
  },
  {
   "cell_type": "markdown",
   "id": "8fd48cfa",
   "metadata": {},
   "source": [
    "### Printing all the followers of “foodtalkindia” that I am following but those who don’t follow me"
   ]
  },
  {
   "cell_type": "code",
   "execution_count": 1,
   "id": "96fb8f82",
   "metadata": {},
   "outputs": [],
   "source": [
    "def getusers():\n",
    "    try:\n",
    "#         Extracting names of profile who follow foodtalkindia whom we follow\n",
    "        following_names=Following()\n",
    "        for i in following_names:\n",
    "            search(i)\n",
    "            time.sleep(2)\n",
    "#             Locating following button and clicking it\n",
    "            followingBtn = wait.until(EC.presence_of_element_located((By.XPATH,'//*[@class=\"x78zum5 x1q0g3np xieb3on\"]/li[3]/a')))\n",
    "            followingBtn.click()\n",
    "            time.sleep(2)\n",
    "            followingnames=[]\n",
    "#             Extracting names of following of that particular profile that follows foodtalkinia and is followed by me as well\n",
    "            names=driver.find_elements(By.XPATH,'//*[@class=\"_aacl _aaco _aacw _aacx _aad7 _aade\"]/div')\n",
    "            for j in names:\n",
    "                handle=j.text\n",
    "                followingnames.append(handle)\n",
    "#                 If username(i.e my profile) isn't in the list, we will print the name of that site \n",
    "            if username not in followingnames:\n",
    "                print(i)\n",
    "#             Closing the dialog box\n",
    "            driver.find_element(By.CLASS_NAME,'_abl-').click() \n",
    "    except TimeoutException :\n",
    "        print(\"Something Went Wrong!\")                 \n",
    "                    "
   ]
  },
  {
   "cell_type": "code",
   "execution_count": 112,
   "id": "64610cde",
   "metadata": {},
   "outputs": [
    {
     "name": "stdout",
     "output_type": "stream",
     "text": [
      "logo_branding.india\n",
      "hungeerrworks\n"
     ]
    }
   ],
   "source": [
    "getusers()"
   ]
  },
  {
   "cell_type": "markdown",
   "id": "ff7ff715",
   "metadata": {},
   "source": [
    "## 7.Check story of coding.ninjas"
   ]
  },
  {
   "cell_type": "markdown",
   "id": "f44c7f3e",
   "metadata": {},
   "source": [
    "Check the story of ‘coding.ninjas’. Consider the following Scenarios and print error messages accordingly -\n",
    "\n",
    "1.If You have already seen the story.\n",
    "\n",
    "2.Or The user has no story.\n",
    "\n",
    "3.Or View the story if not yet seen."
   ]
  },
  {
   "cell_type": "code",
   "execution_count": 165,
   "id": "ecd2dec5",
   "metadata": {},
   "outputs": [],
   "source": [
    "def View_story():\n",
    "\n",
    "# The distinction between an already viewed story and to be viewed story is height.Similarly the distinction is class between no story available and story available\n",
    "#     Finding classname of story/profile picture button\n",
    "    classname=driver.find_element(By.XPATH,'//*[@class=\"x78zum5 xdt5ytf x2lah0s xl56j7k x1n2onr6 xbn8dsz x184cenk x16fuon9 x5bv2cf x9ozhqo\"]/div').get_attribute('class')\n",
    "#     Finding height of story/profile picture button\n",
    "    height=driver.find_element(By.XPATH,'//*[@class=\"x78zum5 xdt5ytf x2lah0s xl56j7k x1n2onr6 xbn8dsz x184cenk x16fuon9 x5bv2cf x9ozhqo\"]/div/canvas').get_attribute('height')\n",
    "#     Checking height and classname conditions to classify\n",
    "    if classname=='_aarf _aarg' and height=='225':\n",
    "        print(\"You have already seen the story\")\n",
    "    elif classname=='_aarf _aarg' and height=='228':\n",
    "#         Locating storybutton/profile pic button\n",
    "        storybtn=driver.find_element(By.XPATH,'//*[@class=\"x78zum5 xdt5ytf x2lah0s xl56j7k x1n2onr6 xbn8dsz x184cenk x16fuon9 x5bv2cf x9ozhqo\"]/div')\n",
    "        storybtn.click()\n",
    "    elif classname=='_aarf':\n",
    "        print(\"No story available\")"
   ]
  },
  {
   "cell_type": "code",
   "execution_count": 168,
   "id": "4f6076f7",
   "metadata": {},
   "outputs": [
    {
     "name": "stdout",
     "output_type": "stream",
     "text": [
      "You have already seen the story\n"
     ]
    }
   ],
   "source": [
    "View_story()"
   ]
  }
 ],
 "metadata": {
  "kernelspec": {
   "display_name": "Python 3 (ipykernel)",
   "language": "python",
   "name": "python3"
  },
  "language_info": {
   "codemirror_mode": {
    "name": "ipython",
    "version": 3
   },
   "file_extension": ".py",
   "mimetype": "text/x-python",
   "name": "python",
   "nbconvert_exporter": "python",
   "pygments_lexer": "ipython3",
   "version": "3.10.9"
  }
 },
 "nbformat": 4,
 "nbformat_minor": 5
}
